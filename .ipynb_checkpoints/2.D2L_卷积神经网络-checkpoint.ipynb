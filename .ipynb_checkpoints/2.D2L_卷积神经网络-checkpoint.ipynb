{
 "cells": [
  {
   "cell_type": "markdown",
   "id": "e88a90b1-4ee3-4410-b57b-0670064708fa",
   "metadata": {},
   "source": [
    "# 深度学习计算"
   ]
  },
  {
   "cell_type": "markdown",
   "id": "fe1426bc-0e56-4245-8f11-09191c2f7c5b",
   "metadata": {},
   "source": [
    "## 模型构造"
   ]
  },
  {
   "cell_type": "code",
   "execution_count": 7,
   "id": "241b8885-c4bd-4be3-bb0f-b5f8afd1af8d",
   "metadata": {},
   "outputs": [
    {
     "name": "stdout",
     "output_type": "stream",
     "text": [
      "tensor([[ 0.0019, -0.0584, -0.0865, -0.0379, -0.3119,  0.1892,  0.0117, -0.5962,\n",
      "         -0.1500, -0.0147],\n",
      "        [ 0.0361, -0.0978, -0.0342, -0.0285, -0.2214,  0.1230, -0.0329, -0.3545,\n",
      "         -0.0654,  0.0231]], grad_fn=<AddmmBackward0>)\n"
     ]
    }
   ],
   "source": [
    "import torch\n",
    "from torch import nn\n",
    "from torch.nn import functional as F\n",
    "\n",
    "net = nn.Sequential(nn.Linear(20, 256), nn.ReLU(), nn.Linear(256, 10))\n",
    "\n",
    "X = torch.rand(2, 20)\n",
    "print(net(X))"
   ]
  },
  {
   "cell_type": "code",
   "execution_count": 29,
   "id": "1e6b7772-2efb-4005-8ef5-73ac8a16c08a",
   "metadata": {},
   "outputs": [
    {
     "data": {
      "text/plain": [
       "tensor([[ 0.1044,  0.0047, -0.0116, -0.0837,  0.1782, -0.1080, -0.0762,  0.3189,\n",
       "          0.2191, -0.0394],\n",
       "        [ 0.0676,  0.0259,  0.0598, -0.0345,  0.0181, -0.0470, -0.0104,  0.3888,\n",
       "          0.0448, -0.1063]], grad_fn=<AddmmBackward0>)"
      ]
     },
     "execution_count": 29,
     "metadata": {},
     "output_type": "execute_result"
    }
   ],
   "source": [
    "\"\"\"自定义模块\"\"\"\n",
    "class MLP(nn.Module):\n",
    "    def __init__(self):\n",
    "        super().__init__() # 初始化其它参数 ， super() 函数是用来调用父类的一个方法\n",
    "        self.hidden = nn.Linear(20,256)\n",
    "        self.out = nn.Linear(256,10)\n",
    "    def forward(self,X):\n",
    "        return self.out(F.relu(self.hidden(X)))\n",
    "net = MLP()\n",
    "net(X) # 自动调用forward"
   ]
  },
  {
   "cell_type": "code",
   "execution_count": 21,
   "id": "06648927-5693-4a65-8ce7-b0985cb051d7",
   "metadata": {},
   "outputs": [
    {
     "data": {
      "text/plain": [
       "tensor([[ 0.1574, -0.1589,  0.1214, -0.0701,  0.0351,  0.0498, -0.0215, -0.0891,\n",
       "         -0.0485,  0.0075],\n",
       "        [ 0.1353,  0.0565,  0.1489, -0.0679, -0.0061, -0.0012, -0.0361, -0.0180,\n",
       "         -0.0479, -0.0284]], grad_fn=<AddmmBackward0>)"
      ]
     },
     "execution_count": 21,
     "metadata": {},
     "output_type": "execute_result"
    }
   ],
   "source": [
    "class MySequential(nn.Module):\n",
    "    def __init__(self,*args):\n",
    "        super().__init__() # 初始化其它参数\n",
    "        for block in args:\n",
    "            self._modules[block] = block # 储存在一个OrderDict中\n",
    "    def forward(self,X):\n",
    "        for block in self._modules.values():\n",
    "            X = block(X)\n",
    "        return X\n",
    "net = MySequential(nn.Linear(20,256), nn.ReLU(), nn.Linear(256,10))\n",
    "net(X) # 自动调用forward"
   ]
  },
  {
   "cell_type": "code",
   "execution_count": 28,
   "id": "30b2ece0-84bf-4796-af48-d318049b9989",
   "metadata": {},
   "outputs": [
    {
     "data": {
      "text/plain": [
       "tensor(0.1652, grad_fn=<SumBackward0>)"
      ]
     },
     "execution_count": 28,
     "metadata": {},
     "output_type": "execute_result"
    }
   ],
   "source": [
    "class FixedHiddenMLP(nn.Module):\n",
    "    def __init__(self):\n",
    "        super().__init__()\n",
    "        self.rand_weights = torch.rand((20,20), requires_grad = False)\n",
    "        self.linear = nn.Linear(20, 20)\n",
    "    def forward(self,X):\n",
    "        X = self.linear(X)\n",
    "        X = F.relu(X)\n",
    "        X = self.linear(X)\n",
    "        while X.abs().sum()>1:\n",
    "            X /= 2\n",
    "        return X.sum()\n",
    "X = torch.rand(2, 20)\n",
    "net = FixedHiddenMLP()\n",
    "net.forward(X)"
   ]
  },
  {
   "cell_type": "code",
   "execution_count": 31,
   "id": "5792fb31-e4c0-4394-bc9f-a8f637ae20a6",
   "metadata": {},
   "outputs": [
    {
     "data": {
      "text/plain": [
       "tensor(0.1350, grad_fn=<SumBackward0>)"
      ]
     },
     "execution_count": 31,
     "metadata": {},
     "output_type": "execute_result"
    }
   ],
   "source": [
    "\"\"\"可以嵌套使用\"\"\"\n",
    "net = nn.Sequential(MLP(), nn.Linear(10,20), FixedHiddenMLP())\n",
    "net(X)"
   ]
  },
  {
   "cell_type": "markdown",
   "id": "8a77c05b-33d9-4406-9d02-b6e4163f7544",
   "metadata": {},
   "source": [
    "## 参数管理"
   ]
  },
  {
   "cell_type": "code",
   "execution_count": 36,
   "id": "69dba958-fd9e-4cf9-a9bb-e0a1b16392cf",
   "metadata": {},
   "outputs": [
    {
     "name": "stdout",
     "output_type": "stream",
     "text": [
      "tensor([[-0.1226],\n",
      "        [-0.0961]], grad_fn=<AddmmBackward0>)\n",
      "OrderedDict({'weight': tensor([[ 0.0897,  0.2864, -0.0181,  0.0082, -0.2598, -0.2219,  0.1460, -0.0464]]), 'bias': tensor([-0.1623])})\n",
      "<class 'torch.nn.parameter.Parameter'>\n",
      "Parameter containing:\n",
      "tensor([-0.1623], requires_grad=True)\n",
      "tensor([-0.1623])\n"
     ]
    },
    {
     "data": {
      "text/plain": [
       "True"
      ]
     },
     "execution_count": 36,
     "metadata": {},
     "output_type": "execute_result"
    }
   ],
   "source": [
    "\"\"\"目标参数访问\"\"\"\n",
    "import torch\n",
    "from torch import nn\n",
    "\"\"\"搭建网络\"\"\"\n",
    "net = nn.Sequential(nn.Linear(4, 8), nn.ReLU(), nn.Linear(8, 1))\n",
    "X = torch.rand(size=(2, 4))\n",
    "print(net(X))\n",
    "\n",
    "print(net[2].state_dict())# 第二层网络nn.Linear(8, 1)的参数\n",
    "\n",
    "print(type(net[2].bias))\n",
    "print(net[2].bias)\n",
    "print(net[2].bias.data) # 访问bias\n",
    "\n",
    "net[2].weight.grad == None # 第2层网络本身没有求导"
   ]
  },
  {
   "cell_type": "code",
   "execution_count": 43,
   "id": "b092d669-05d3-4f55-ac33-88f728b3f0bd",
   "metadata": {},
   "outputs": [
    {
     "name": "stdout",
     "output_type": "stream",
     "text": [
      "('weight', torch.Size([8, 4])) ('bias', torch.Size([8]))\n",
      "('0.weight', torch.Size([8, 4])) ('0.bias', torch.Size([8])) ('2.weight', torch.Size([1, 8])) ('2.bias', torch.Size([1]))\n"
     ]
    },
    {
     "data": {
      "text/plain": [
       "tensor([-0.1623])"
      ]
     },
     "execution_count": 43,
     "metadata": {},
     "output_type": "execute_result"
    }
   ],
   "source": [
    "\"\"\"一次性访问所有参数\"\"\"\n",
    "print(*[(name, param.shape)for name, param in net[0].named_parameters()])\n",
    "print(*[(name, param.shape)for name, param in net.named_parameters()])# 输出一个列表，列表里面是索引和参数形状构成的元组\n",
    "\n",
    "net.state_dict()['2.bias'].data"
   ]
  },
  {
   "cell_type": "code",
   "execution_count": 52,
   "id": "064a85f7-9d3e-4a4c-b747-1c41ee8352b3",
   "metadata": {},
   "outputs": [
    {
     "name": "stdout",
     "output_type": "stream",
     "text": [
      "tensor([[-0.1192],\n",
      "        [-0.1193]], grad_fn=<AddmmBackward0>)\n",
      "Sequential(\n",
      "  (0): Sequential(\n",
      "    (block0): Sequential(\n",
      "      (0): Linear(in_features=4, out_features=8, bias=True)\n",
      "      (1): ReLU()\n",
      "      (2): Linear(in_features=8, out_features=4, bias=True)\n",
      "      (3): ReLU()\n",
      "    )\n",
      "    (block1): Sequential(\n",
      "      (0): Linear(in_features=4, out_features=8, bias=True)\n",
      "      (1): ReLU()\n",
      "      (2): Linear(in_features=8, out_features=4, bias=True)\n",
      "      (3): ReLU()\n",
      "    )\n",
      "    (block2): Sequential(\n",
      "      (0): Linear(in_features=4, out_features=8, bias=True)\n",
      "      (1): ReLU()\n",
      "      (2): Linear(in_features=8, out_features=4, bias=True)\n",
      "      (3): ReLU()\n",
      "    )\n",
      "    (block3): Sequential(\n",
      "      (0): Linear(in_features=4, out_features=8, bias=True)\n",
      "      (1): ReLU()\n",
      "      (2): Linear(in_features=8, out_features=4, bias=True)\n",
      "      (3): ReLU()\n",
      "    )\n",
      "  )\n",
      "  (1): Linear(in_features=4, out_features=1, bias=True)\n",
      ")\n"
     ]
    }
   ],
   "source": [
    "\"\"\"从嵌套模块收集参数\"\"\"\n",
    "def block1():\n",
    "    return nn.Sequential(nn.Linear(4,8), nn.ReLU(), nn.Linear(8,4), nn.ReLU())\n",
    "def block2():\n",
    "    net = nn.Sequential()\n",
    "    for i in range(4):\n",
    "        net.add_module(f'block{i}',block1())\n",
    "    return net\n",
    "rgnet = nn.Sequential(block2(), nn.Linear(4, 1))\n",
    "print(rgnet(X))\n",
    "print(rgnet)"
   ]
  },
  {
   "cell_type": "code",
   "execution_count": 59,
   "id": "5df5f633-7b98-4071-b291-471cb0a5d886",
   "metadata": {},
   "outputs": [
    {
     "name": "stdout",
     "output_type": "stream",
     "text": [
      "tensor([ 0.0198, -0.4283,  0.2529, -0.4034,  0.4486, -0.1197, -0.0896,  0.3846])\n"
     ]
    }
   ],
   "source": [
    "print(rgnet[0][1][0].bias.data)"
   ]
  },
  {
   "cell_type": "code",
   "execution_count": 64,
   "id": "e4c10b34-1566-4aec-ab6d-ce31ae571658",
   "metadata": {},
   "outputs": [
    {
     "name": "stdout",
     "output_type": "stream",
     "text": [
      "tensor([ 0.1691,  0.5817, -0.5406,  0.3815])\n",
      "tensor([[42., 42., 42., 42., 42., 42., 42., 42.]])\n"
     ]
    }
   ],
   "source": [
    "\"\"\"内置初始化\"\"\"\n",
    "def init_weight(m):\n",
    "    if type(m) == nn.Linear:\n",
    "        nn.init.normal_(m.weight, mean = 0, std = 0.01)\n",
    "        nn.init.zeros_(m.bias)\n",
    "net.apply(init_weight)\n",
    "\n",
    "def init_xavier(m):\n",
    "    if type(m) == nn.Linear:\n",
    "        nn.init.xavier_uniform_(m.weight) \n",
    "        # Xavier初始化的关键点:\n",
    "        #1.权重初始化,权重应该从一个以0为中心的分布中随机初始化。\n",
    "        #2.方差保持：初始化的目标是保持前向传播和反向传播过程中信号的方差。\n",
    "def init_42(m):\n",
    "    if type(m) == nn.Linear:\n",
    "        nn.init.constant_(m.weight, 42)\n",
    "net[0].apply(init_xavier)\n",
    "net[2].apply(init_42)\n",
    "print(net[0].weight.data[0])\n",
    "print(net[2].weight.data)"
   ]
  },
  {
   "cell_type": "code",
   "execution_count": 76,
   "id": "0fa061bf-5516-4546-8824-9357d17db6ee",
   "metadata": {},
   "outputs": [
    {
     "name": "stdout",
     "output_type": "stream",
     "text": [
      "Init weight torch.Size([8, 4])\n",
      "Init weight torch.Size([1, 8])\n",
      "tensor([[ 0.0000, -0.0000, -0.0000,  0.0000],\n",
      "        [-5.1490, -7.4521,  6.3974, -0.0000]], grad_fn=<SliceBackward0>)\n",
      "tensor([42.,  1.,  1.,  1.])\n"
     ]
    }
   ],
   "source": [
    "\"\"\"自定义初始化参数\"\"\"\n",
    "def my_init(m):\n",
    "    if type(m) == nn.Linear:\n",
    "        print(\"Init\", *[(name, param.shape)\n",
    "                        for name, param in m.named_parameters()][0])# 只输出weight，bias是[1]\n",
    "        nn.init.uniform_(m.weight, -10, 10)# 将张量的元素初始化为从均匀分布中随机采样的值\n",
    "        m.weight.data *= m.weight.data.abs() >= 5\n",
    "\n",
    "net.apply(my_init)\n",
    "print(net[0].weight[:2])\n",
    "\n",
    "net[0].weight.data[:] += 1 # 原位置上加1\n",
    "net[0].weight.data[0, 0] = 42\n",
    "print(net[0].weight.data[0])"
   ]
  },
  {
   "cell_type": "code",
   "execution_count": 78,
   "id": "9772402a-822b-42a8-a49e-f3d27520b844",
   "metadata": {},
   "outputs": [
    {
     "name": "stdout",
     "output_type": "stream",
     "text": [
      "tensor([True, True, True, True, True, True, True, True])\n",
      "tensor([True, True, True, True, True, True, True, True])\n"
     ]
    }
   ],
   "source": [
    "\"\"\"参数绑定\"\"\"\n",
    "# 我们需要给共享层一个名称，以便可以引用它的参数\n",
    "shared = nn.Linear(8, 8) # 类似指向同一个地址的指针\n",
    "net = nn.Sequential(nn.Linear(4, 8), nn.ReLU(),\n",
    "                    shared, nn.ReLU(),\n",
    "                    shared, nn.ReLU(),\n",
    "                    nn.Linear(8, 1))\n",
    "net(X)\n",
    "# 检查参数是否相同\n",
    "print(net[2].weight.data[0] == net[4].weight.data[0])\n",
    "net[2].weight.data[0, 0] = 100\n",
    "# 确保它们实际上是同一个对象，而不只是有相同的值\n",
    "print(net[2].weight.data[0] == net[4].weight.data[0])"
   ]
  },
  {
   "cell_type": "markdown",
   "id": "e9b2592e-0059-4b11-8005-ea6e218e63c6",
   "metadata": {},
   "source": [
    "## 自定义层"
   ]
  },
  {
   "cell_type": "code",
   "execution_count": 80,
   "id": "2d79bdd3-ee90-4a8e-8c6f-0c4ecc216474",
   "metadata": {},
   "outputs": [
    {
     "data": {
      "text/plain": [
       "tensor([-2., -1.,  0.,  1.,  2.])"
      ]
     },
     "execution_count": 80,
     "metadata": {},
     "output_type": "execute_result"
    }
   ],
   "source": [
    "class CenteredLayer(nn.Module):\n",
    "    def __init__(self):\n",
    "        super().__init__() # super()是调用父类的函数\n",
    "    def forward(self, X):\n",
    "        return X - X.mean()\n",
    "layer = CenteredLayer()\n",
    "layer(torch.FloatTensor([1,2,3,4,5]))"
   ]
  },
  {
   "cell_type": "code",
   "execution_count": 82,
   "id": "ed4d6787-a2bd-446a-bb83-28c09bcaeff5",
   "metadata": {},
   "outputs": [
    {
     "data": {
      "text/plain": [
       "Parameter containing:\n",
       "tensor([[ 0.2469,  0.8001, -0.5108],\n",
       "        [-1.7331,  1.3372, -1.5021],\n",
       "        [-1.4959,  1.6595, -2.0702],\n",
       "        [ 1.6882,  1.2696,  0.2878],\n",
       "        [ 0.4909, -0.8646,  1.0302]], requires_grad=True)"
      ]
     },
     "execution_count": 82,
     "metadata": {},
     "output_type": "execute_result"
    }
   ],
   "source": [
    "class MyLayer(nn.Module):\n",
    "    def __init__(self, in_units, units):\n",
    "        super().__init__()\n",
    "        self.weight = nn.Parameter(torch.randn(in_units, units))# 初始化权重，放在parameter里让权重有反向求导\n",
    "        self.bias = nn.Parameter(torch.randn(units,))\n",
    "    def forward(self, X):\n",
    "        linear = torch.matmul(X,self.weight) + self.bias\n",
    "        return F.relu(linear)\n",
    "dense = MyLayer(5,3)\n",
    "dense.weight"
   ]
  },
  {
   "cell_type": "markdown",
   "id": "0fa9cde4-709a-4021-a8d9-96d7f89b9688",
   "metadata": {},
   "source": [
    "## 读写文件"
   ]
  },
  {
   "cell_type": "code",
   "execution_count": 4,
   "id": "e1da3ed4-a982-4a5d-a498-060c18f9969e",
   "metadata": {
    "ExecuteTime": {
     "end_time": "2024-09-01T11:38:23.580818Z",
     "start_time": "2024-09-01T11:38:14.972400Z"
    }
   },
   "outputs": [
    {
     "name": "stderr",
     "output_type": "stream",
     "text": [
      "C:\\Windows\\Temp\\ipykernel_24068\\2497992789.py:8: FutureWarning: You are using `torch.load` with `weights_only=False` (the current default value), which uses the default pickle module implicitly. It is possible to construct malicious pickle data which will execute arbitrary code during unpickling (See https://github.com/pytorch/pytorch/blob/main/SECURITY.md#untrusted-models for more details). In a future release, the default value for `weights_only` will be flipped to `True`. This limits the functions that could be executed during unpickling. Arbitrary objects will no longer be allowed to be loaded via this mode unless they are explicitly allowlisted by the user via `torch.serialization.add_safe_globals`. We recommend you start setting `weights_only=True` for any use case where you don't have full control of the loaded file. Please open an issue on GitHub for any issues related to this experimental feature.\n",
      "  x2 = torch.load('x-file')\n"
     ]
    },
    {
     "data": {
      "text/plain": [
       "tensor([0, 1, 2, 3])"
      ]
     },
     "execution_count": 4,
     "metadata": {},
     "output_type": "execute_result"
    }
   ],
   "source": [
    "import torch\n",
    "from torch import nn\n",
    "from torch.nn import functional as F\n",
    "\n",
    "x = torch.arange(4)\n",
    "torch.save(x, 'x-file')\n",
    "\n",
    "x2 = torch.load('x-file')\n",
    "x2"
   ]
  },
  {
   "cell_type": "code",
   "execution_count": 5,
   "id": "40da6c58-271e-4482-a2a9-097c16804fd7",
   "metadata": {
    "ExecuteTime": {
     "end_time": "2024-09-01T11:39:01.113186Z",
     "start_time": "2024-09-01T11:39:01.100227Z"
    }
   },
   "outputs": [],
   "source": [
    "net = nn.Sequential(nn.Linear(20, 256), nn.Linear(256, 10), nn.ReLU())\n",
    "x = torch.randn(size = (2, 20))\n",
    "y = net(x)\n",
    "torch.save(net.state_dict(),'net.params')"
   ]
  },
  {
   "cell_type": "code",
   "execution_count": 8,
   "id": "c4973b6c-0ebc-40de-afd8-a36d834efbec",
   "metadata": {},
   "outputs": [
    {
     "name": "stderr",
     "output_type": "stream",
     "text": [
      "C:\\Windows\\Temp\\ipykernel_24068\\611932313.py:2: FutureWarning: You are using `torch.load` with `weights_only=False` (the current default value), which uses the default pickle module implicitly. It is possible to construct malicious pickle data which will execute arbitrary code during unpickling (See https://github.com/pytorch/pytorch/blob/main/SECURITY.md#untrusted-models for more details). In a future release, the default value for `weights_only` will be flipped to `True`. This limits the functions that could be executed during unpickling. Arbitrary objects will no longer be allowed to be loaded via this mode unless they are explicitly allowlisted by the user via `torch.serialization.add_safe_globals`. We recommend you start setting `weights_only=True` for any use case where you don't have full control of the loaded file. Please open an issue on GitHub for any issues related to this experimental feature.\n",
      "  clone.load_state_dict(torch.load(\"net.params\"))\n"
     ]
    },
    {
     "data": {
      "text/plain": [
       "<bound method Module.eval of Sequential(\n",
       "  (0): Linear(in_features=20, out_features=256, bias=True)\n",
       "  (1): Linear(in_features=256, out_features=10, bias=True)\n",
       "  (2): ReLU()\n",
       ")>"
      ]
     },
     "execution_count": 8,
     "metadata": {},
     "output_type": "execute_result"
    }
   ],
   "source": [
    "clone = net\n",
    "clone.load_state_dict(torch.load(\"net.params\"))\n",
    "clone.eval # 意思是开启评估模式"
   ]
  },
  {
   "cell_type": "code",
   "execution_count": 9,
   "id": "c520f667-5496-4f16-b41c-165b3bbd826a",
   "metadata": {},
   "outputs": [
    {
     "data": {
      "text/plain": [
       "tensor([[True, True, True, True, True, True, True, True, True, True],\n",
       "        [True, True, True, True, True, True, True, True, True, True]])"
      ]
     },
     "execution_count": 9,
     "metadata": {},
     "output_type": "execute_result"
    }
   ],
   "source": [
    "y_clone = clone(x)\n",
    "y_clone == y"
   ]
  },
  {
   "cell_type": "markdown",
   "id": "78003abd-3797-4fce-90fe-ebcc3eecdd8e",
   "metadata": {},
   "source": [
    "# 卷积神经网络(这里是2D卷积)"
   ]
  },
  {
   "cell_type": "markdown",
   "id": "b9df4e48-8a99-4a78-8e83-cfa06215ec54",
   "metadata": {},
   "source": [
    "## 图像卷积"
   ]
  },
  {
   "cell_type": "code",
   "execution_count": 2,
   "id": "840ccff5-90f7-4c6c-9b04-0560cdf2d704",
   "metadata": {},
   "outputs": [
    {
     "data": {
      "text/plain": [
       "tensor([[13., 23.],\n",
       "        [23., 33.]])"
      ]
     },
     "execution_count": 2,
     "metadata": {},
     "output_type": "execute_result"
    }
   ],
   "source": [
    "\"\"\"卷积操作（卷积层是个错误的叫法，因为它所表达的运算其实是互相关运算cross-correlation）\"\"\"\n",
    "import torch\n",
    "from torch import nn\n",
    "from d2l import torch as d2l\n",
    "def corr2d(X, K): # X是卷积核\n",
    "    h, w = K.shape\n",
    "    Y = torch.zeros(X.shape[0] - h + 1, X.shape[1] - w + 1) # 互相关运算过后图像的大小改变\n",
    "    for i in range(Y.shape[0]):\n",
    "        for j in range(Y.shape[1]):\n",
    "            Y[i, j] = (X[i:i+h, j:j+w] * K).sum()\n",
    "    return Y\n",
    "\n",
    "X = torch.tensor([[0, 1, 2],[1, 2, 3],[2, 3, 4]])\n",
    "K = torch.tensor([[1, 2],[3, 4]])\n",
    "corr2d(X,K)"
   ]
  },
  {
   "cell_type": "code",
   "execution_count": 36,
   "id": "9e145447-60b5-44d1-901c-403f80610e74",
   "metadata": {},
   "outputs": [],
   "source": [
    "\"\"\"卷积层\"\"\"\n",
    "class Conv2D(nn.Module):\n",
    "    def __init__(self, kernel_size):\n",
    "        super().__init__()\n",
    "        self.weight = nn.Parameters(torch.rand(nernel_size))\n",
    "        self.bias = nn.Parameters(torch.zeros(1))\n",
    "    def forward(self, X):\n",
    "        return corr2d(X, self.weight) + self.bias"
   ]
  },
  {
   "cell_type": "code",
   "execution_count": 39,
   "id": "39dfb0fa-458d-4d37-a052-954edb4304c2",
   "metadata": {},
   "outputs": [
    {
     "name": "stdout",
     "output_type": "stream",
     "text": [
      "tensor([[ 0.,  1.,  0.,  0.,  0., -1.,  0.],\n",
      "        [ 0.,  1.,  0.,  0.,  0., -1.,  0.],\n",
      "        [ 0.,  1.,  0.,  0.,  0., -1.,  0.],\n",
      "        [ 0.,  1.,  0.,  0.,  0., -1.,  0.],\n",
      "        [ 0.,  1.,  0.,  0.,  0., -1.,  0.],\n",
      "        [ 0.,  1.,  0.,  0.,  0., -1.,  0.]])\n",
      "tensor([[0., 0., 0., 0., 0.],\n",
      "        [0., 0., 0., 0., 0.],\n",
      "        [0., 0., 0., 0., 0.],\n",
      "        [0., 0., 0., 0., 0.],\n",
      "        [0., 0., 0., 0., 0.],\n",
      "        [0., 0., 0., 0., 0.],\n",
      "        [0., 0., 0., 0., 0.],\n",
      "        [0., 0., 0., 0., 0.]])\n"
     ]
    }
   ],
   "source": [
    "\"\"\"图像中目标的边缘检测\"\"\"\n",
    "X = torch.ones(6,8)\n",
    "X[:,2:6] = 0\n",
    "K = torch.tensor([[1.0, -1.0]])\n",
    "Y = corr2d(X, K)# 输出Y中的1代表从白色到黑色的边缘，-1代表从黑色到白色的边缘，其他情况的输出为0\n",
    "print(Y)\n",
    "\n",
    "X = torch.ones(6,8)\n",
    "X[:,2:6] = 0\n",
    "print(corr2d(X.t(), K)) # 将输入的二维图像转置, 再进行如上的互相关运算，之前检测到的垂直边缘消失了\n",
    "# 卷积核K只可以检测垂直边缘，无法检测水平边缘。"
   ]
  },
  {
   "cell_type": "code",
   "execution_count": 44,
   "id": "a79e9c14-49a3-4fd6-9a22-74b4e80e41b2",
   "metadata": {},
   "outputs": [
    {
     "name": "stdout",
     "output_type": "stream",
     "text": [
      "epoch2, loss 8.314\n",
      "epoch4, loss 1.969\n",
      "epoch6, loss 0.566\n",
      "epoch8, loss 0.191\n",
      "epoch10, loss 0.072\n",
      "tensor([[ 1.0140, -0.9606]])\n"
     ]
    }
   ],
   "source": [
    "\"\"\"学习卷积核\"\"\"\n",
    "conv2d = nn.Conv2d(1, 1, kernel_size = (1,2), bias = False) # 内置二维卷积层，它有一个输出通道，和一个1 * 2的卷积核\n",
    "\n",
    "# 这个二维卷积层使用四维输入和输出格式（批量大小、通道、高度、宽度），\n",
    "# 其中批量大小和通道数都为1\n",
    "X = X.reshape((1, 1, 6, 8))\n",
    "Y = Y.reshape((1, 1, 6, 7))\n",
    "lr = 3e-2  # 学习率\n",
    "for i in range(10):\n",
    "    Y_hat = conv2d(X)\n",
    "    l = (Y - Y_hat) ** 2\n",
    "    conv2d.zero_grad()\n",
    "    l.sum().backward()\n",
    "    conv2d.weight.data[:] -= lr * conv2d.weight.grad\n",
    "    if( (i+1) %2 == 0 ):\n",
    "        print(f'epoch{i+1}, loss {l.sum():.3f}')\n",
    "print(conv2d.weight.data.reshape(1,2))"
   ]
  },
  {
   "cell_type": "markdown",
   "id": "e93b48dd-e649-4273-98f3-715b68979a08",
   "metadata": {},
   "source": [
    "## 填充和步幅"
   ]
  },
  {
   "cell_type": "code",
   "execution_count": 33,
   "id": "f2bd9880-e39a-4fce-8397-a93cd92984d9",
   "metadata": {},
   "outputs": [
    {
     "name": "stdout",
     "output_type": "stream",
     "text": [
      "torch.Size([8, 8])\n"
     ]
    }
   ],
   "source": [
    "import torch\n",
    "from torch import nn\n",
    "def comp_conv2d(conv2d, X):\n",
    "    X = X.reshape((1,1) + X.shape)# 元组相加，结果是一个四元素的元组，将X的形状改成 1 batch，1 channel, X的rows, X的columns\n",
    "    Y = conv2d(X)\n",
    "    return Y.reshape(Y.shape[2:])\n",
    "conv2d = nn.Conv2d(1, 1, kernel_size = 3, padding = 1)# padding=1表示填充一行(上下左右都有一行)\n",
    "X = torch.rand(size = (8,8))\n",
    "print(comp_conv2d(conv2d, X).shape)"
   ]
  },
  {
   "cell_type": "code",
   "execution_count": 34,
   "id": "09213057-69b3-4996-aec5-a503c8d6245a",
   "metadata": {},
   "outputs": [
    {
     "name": "stdout",
     "output_type": "stream",
     "text": [
      "torch.Size([4, 4])\n"
     ]
    }
   ],
   "source": [
    "conv2d = nn.Conv2d(1,1, kernel_size = 3, padding = 1, stride = 2)\n",
    "print(comp_conv2d(conv2d, X).shape)"
   ]
  },
  {
   "cell_type": "code",
   "execution_count": 35,
   "id": "f139a290-2fa2-45dd-8fb8-abe7800beadc",
   "metadata": {},
   "outputs": [
    {
     "name": "stdout",
     "output_type": "stream",
     "text": [
      "torch.Size([3, 3])\n"
     ]
    }
   ],
   "source": [
    "conv2d = nn.Conv2d(1,1, kernel_size = 3, padding = (0,1), stride = (2,3))\n",
    "print(comp_conv2d(conv2d, X).shape)"
   ]
  },
  {
   "cell_type": "markdown",
   "id": "35011787-f907-4268-bba6-8626d757c64e",
   "metadata": {},
   "source": [
    "$n_h, n_w$是图像的高和宽，$k_h, k_w$是卷积核的高宽，$p(padding)$是填充, $s(stride)$是步幅\n",
    "\n",
    "卷积运算的结果大小是$\\large{\\frac{n_h-k_h+p_h+s_h}{s_h}\\times \\frac{n_w-k_w+p_w+s_w}{s_w}}$"
   ]
  },
  {
   "cell_type": "markdown",
   "id": "ec081357-7b3a-4f7e-bd52-4d92d0a9d774",
   "metadata": {},
   "source": [
    "## 多输入和多输出通道"
   ]
  },
  {
   "cell_type": "code",
   "execution_count": 36,
   "id": "2e6acc8e-f670-4a1e-9168-1480aa887aee",
   "metadata": {},
   "outputs": [
    {
     "name": "stdout",
     "output_type": "stream",
     "text": [
      "tensor([[ 56.,  72.],\n",
      "        [104., 120.]])\n"
     ]
    }
   ],
   "source": [
    "\"\"\"多通道单输出互相关运算\"\"\"\n",
    "import torch\n",
    "from torch import nn\n",
    "from d2l import torch as d2l\n",
    "\n",
    "def corr2d_multi_in(X, K):\n",
    "    return sum(d2l.corr2d(x, k) for x,k in zip(X,K))\n",
    "\n",
    "X = torch.tensor([[[0.0, 1.0, 2.0], [3.0, 4.0, 5.0], [6.0, 7.0, 8.0]],\n",
    "               [[1.0, 2.0, 3.0], [4.0, 5.0, 6.0], [7.0, 8.0, 9.0]]]) # 2,3,3\n",
    "K = torch.tensor([[[0.0, 1.0], [2.0, 3.0]], [[1.0, 2.0], [3.0, 4.0]]]) # 2,2,2\n",
    "print(corr2d_multi_in(X, K))"
   ]
  },
  {
   "cell_type": "code",
   "execution_count": 37,
   "id": "3cb550bc-0e1e-45c2-b49f-f419c727c049",
   "metadata": {},
   "outputs": [],
   "source": [
    "\"\"\"多输入多输出\"\"\"\n",
    "def corr2d_multi_in_out(X,K):\n",
    "    # 迭代“K”的第0个维度，每次都对输入“X”执行互相关运算。\n",
    "    # 最后将所有结果都叠加在一起\n",
    "    return torch.stack([corr2d_multi_in(X,k) for k in K],0 )"
   ]
  },
  {
   "cell_type": "code",
   "execution_count": 38,
   "id": "e26933e6-3767-4479-9c0f-25fca133e7ed",
   "metadata": {},
   "outputs": [
    {
     "name": "stdout",
     "output_type": "stream",
     "text": [
      "torch.Size([3, 2, 2, 2])\n"
     ]
    },
    {
     "data": {
      "text/plain": [
       "tensor([[[ 56.,  72.],\n",
       "         [104., 120.]],\n",
       "\n",
       "        [[ 76., 100.],\n",
       "         [148., 172.]],\n",
       "\n",
       "        [[ 96., 128.],\n",
       "         [192., 224.]]])"
      ]
     },
     "execution_count": 38,
     "metadata": {},
     "output_type": "execute_result"
    }
   ],
   "source": [
    "K = torch.stack((K, K + 1, K + 2), 0)# 有多个卷积核\n",
    "print(K.shape)\n",
    "corr2d_multi_in_out(X,K)"
   ]
  },
  {
   "cell_type": "markdown",
   "id": "1a1e0f22-fc38-45e2-8ea7-3917926d5b9d",
   "metadata": {},
   "source": [
    "## 1$\\times$1 卷积层"
   ]
  },
  {
   "cell_type": "code",
   "execution_count": 59,
   "id": "327f6521-9d9b-49b1-a615-3eb3fba94cc2",
   "metadata": {},
   "outputs": [
    {
     "name": "stdout",
     "output_type": "stream",
     "text": [
      "True\n"
     ]
    }
   ],
   "source": [
    "\"\"\"kernel为n*1*1的卷积就相当于全连接层\"\"\"\n",
    "def corr2d_multi_in_out_1x1(X, K):\n",
    "    c_i, h, w = X.shape # X是3,3,3\n",
    "    c_o = K.shape[0]  # K是2,3,1,1\n",
    "    X = X.reshape(c_i, h*w)\n",
    "    K = K.reshape(c_o, c_i)\n",
    "    return torch.matmul(K,X).reshape(c_o, h, w)\n",
    "X = torch.normal(0, 1, (3, 3, 3))\n",
    "K = torch.normal(0, 1, (2, 3, 1, 1))\n",
    "\n",
    "Y1 = corr2d_multi_in_out_1x1(X, K)\n",
    "Y2 = corr2d_multi_in_out(X, K)\n",
    "print(float(torch.abs(Y1 - Y2).sum()) < 1e-6)# 小于10的负6次方，认为相等"
   ]
  },
  {
   "cell_type": "markdown",
   "id": "1921d438-612c-4bfb-88ac-deffa0570c38",
   "metadata": {},
   "source": [
    "## 池化层 "
   ]
  },
  {
   "cell_type": "code",
   "execution_count": 20,
   "id": "36cb7dd9-4d66-4db0-a763-7b3b8b9aa32e",
   "metadata": {},
   "outputs": [
    {
     "name": "stdout",
     "output_type": "stream",
     "text": [
      "tensor([[4., 5.],\n",
      "        [7., 8.]])\n",
      "tensor([[2., 3.],\n",
      "        [5., 6.]])\n"
     ]
    }
   ],
   "source": [
    "\"\"\"最大池化层和平均池化层\"\"\"\n",
    "import torch\n",
    "from torch import nn\n",
    "from d2l import torch as d2l\n",
    "def pool2d(X, pool_size, mode = 'max'):# 最大或者平均\n",
    "    p_h, p_w = pool_size\n",
    "    Y = torch.zeros((X.shape[0] - p_h + 1, X.shape[1] - p_w + 1))\n",
    "    for i in range(Y.shape[0]):\n",
    "        for j in range(Y.shape[1]):\n",
    "            if mode == 'max':# 最大池化层\n",
    "                Y[i, j] = X[i:i + p_h, j:j + p_w].max()\n",
    "            elif mode == 'avg':# 平均池化层\n",
    "                Y[i, j] = X[i:i + p_h, j:j + p_w].mean()\n",
    "    return Y\n",
    "X = torch.tensor([[0.0, 1.0, 2.0], [3.0, 4.0, 5.0], [6.0, 7.0, 8.0]])\n",
    "print(pool2d(X, (2, 2)))# 默认最大池化层\n",
    "X = torch.tensor([[0.0, 1.0, 2.0], [3.0, 4.0, 5.0], [6.0, 7.0, 8.0]])\n",
    "print(pool2d(X, (2, 2), mode = 'avg'))"
   ]
  },
  {
   "cell_type": "code",
   "execution_count": 35,
   "id": "5c1d1b48-f538-45c6-b299-5339dbbfbfba",
   "metadata": {},
   "outputs": [
    {
     "name": "stdout",
     "output_type": "stream",
     "text": [
      "tensor([[[[10.]]]])\n",
      "tensor([[[[ 5.,  7.],\n",
      "          [13., 15.]]]])\n"
     ]
    }
   ],
   "source": [
    "\"\"\"填充和步幅\"\"\"\n",
    "X = torch.arange(16, dtype = torch.float32).reshape(1,1,4,4)\n",
    "pool2d = nn.MaxPool2d(3)# 3 * 3的窗口\n",
    "print(pool2d(X))# pytorch默认池化 步幅 和 窗口 大小相同\n",
    "pool2d = nn.MaxPool2d(3, padding = 1, stride = 2)\n",
    "print(pool2d(X))"
   ]
  },
  {
   "cell_type": "code",
   "execution_count": 59,
   "id": "9bfb7961-2311-4d63-bf19-840de83526ed",
   "metadata": {},
   "outputs": [
    {
     "name": "stdout",
     "output_type": "stream",
     "text": [
      "tensor([[[[ 0.,  1.,  2.,  3.],\n",
      "          [ 4.,  5.,  6.,  7.],\n",
      "          [ 8.,  9., 10., 11.],\n",
      "          [12., 13., 14., 15.]]],\n",
      "\n",
      "\n",
      "        [[[ 1.,  2.,  3.,  4.],\n",
      "          [ 5.,  6.,  7.,  8.],\n",
      "          [ 9., 10., 11., 12.],\n",
      "          [13., 14., 15., 16.]]]])\n"
     ]
    },
    {
     "data": {
      "text/plain": [
       "tensor([[[[ 5.,  7.],\n",
       "          [13., 15.]]],\n",
       "\n",
       "\n",
       "        [[[ 6.,  8.],\n",
       "          [14., 16.]]]])"
      ]
     },
     "execution_count": 59,
     "metadata": {},
     "output_type": "execute_result"
    }
   ],
   "source": [
    "X = torch.arange(16, dtype = torch.float32).reshape(1,1,4,4)\n",
    "X = torch.cat((X, X + 1))\n",
    "print(X)\n",
    "pool2d(X)# 池化层会在每个通道分别进行计算"
   ]
  },
  {
   "cell_type": "markdown",
   "id": "7ed3e4b0-f9a6-4e56-bbde-c7453ef42f87",
   "metadata": {},
   "source": [
    "torch.cat 和 torch.stack的区别：\n",
    "* torch.cat 用于在现有维度上连接张量序列。\n",
    "* torch.stack会增加一个新的维度，而torch.cat不会改变张量的维度。"
   ]
  },
  {
   "cell_type": "markdown",
   "id": "50ab8ff2-d876-4562-9baa-2c7d05b89ef7",
   "metadata": {},
   "source": [
    "## LeNet\n",
    "\n",
    "$32\\times32$->($5\\times5$的卷积层，6个核) 6@$28\\times28$ ->($2\\times2$的池化) 6@$14\\times14$->($5\\times5$的卷积层) 16@$10\\times10$ ->($2\\times2$ pooling) 16@$5\\times5$ -> 全连接120 ->84 ->Gauss层 $10\\ $output "
   ]
  },
  {
   "cell_type": "code",
   "execution_count": 2,
   "id": "0649af4b-291b-439e-b769-dda2a4da28a0",
   "metadata": {
    "ExecuteTime": {
     "end_time": "2024-09-05T15:12:28.448927Z",
     "start_time": "2024-09-05T15:12:28.397967Z"
    }
   },
   "outputs": [
    {
     "name": "stdout",
     "output_type": "stream",
     "text": [
      "REshape output shape:   torch.Size([1, 1, 28, 28])\n",
      "Conv2d output shape:   torch.Size([1, 6, 28, 28])\n",
      "Sigmoid output shape:   torch.Size([1, 6, 28, 28])\n",
      "AvgPool2d output shape:   torch.Size([1, 6, 14, 14])\n",
      "Conv2d output shape:   torch.Size([1, 16, 10, 10])\n",
      "AvgPool2d output shape:   torch.Size([1, 16, 5, 5])\n",
      "Flatten output shape:   torch.Size([1, 400])\n",
      "Linear output shape:   torch.Size([1, 120])\n",
      "Sigmoid output shape:   torch.Size([1, 120])\n",
      "Linear output shape:   torch.Size([1, 84])\n",
      "Sigmoid output shape:   torch.Size([1, 84])\n",
      "Linear output shape:   torch.Size([1, 10])\n"
     ]
    }
   ],
   "source": [
    "import torch\n",
    "from torch import nn\n",
    "class REshape(nn.Module):\n",
    "    def forward(self, X):\n",
    "        return X.reshape(-1,1,28,28)\n",
    "net = nn.Sequential(\n",
    "    REshape(),\n",
    "    nn.Conv2d(1,6, padding = 2, kernel_size = 5),# 1输入 6输出\n",
    "    nn.Sigmoid(),\n",
    "    nn.AvgPool2d(2, stride = 2),\n",
    "    nn.Conv2d(6, 16, kernel_size = 5),\n",
    "    nn.AvgPool2d(2, stride = 2),\n",
    "    nn.Flatten(),\n",
    "    nn.Linear(16*5*5, 120),\n",
    "    nn.Sigmoid(),\n",
    "    nn.Linear(120, 84),\n",
    "    nn.Sigmoid(),\n",
    "    nn.Linear(84, 10)\n",
    ")\n",
    "X = torch.rand((1,1,28,28),dtype = torch.float32)\n",
    "for layer in net:\n",
    "    X = layer(X)\n",
    "    print(layer.__class__.__name__, \"output shape:  \",X.shape)"
   ]
  },
  {
   "cell_type": "code",
   "execution_count": 3,
   "id": "6f26ba81-f1b0-4f18-aab9-05cc2108d8e2",
   "metadata": {
    "ExecuteTime": {
     "end_time": "2024-09-05T15:12:28.397967Z",
     "start_time": "2024-09-05T15:12:22.675677Z"
    }
   },
   "outputs": [],
   "source": [
    "import self_d2l\n",
    "batch_size = 256\n",
    "train_iter, test_iter = self_d2l.load_data_fashion_mnist(batch_size=batch_size)"
   ]
  },
  {
   "cell_type": "code",
   "execution_count": 25,
   "id": "fab460bf-8d27-4392-8055-32e6e1881d27",
   "metadata": {},
   "outputs": [
    {
     "data": {
      "image/png": "[encoded data removed]",
      "text/plain": [
       "<Figure size 640x480 with 1 Axes>"
      ]
     },
     "metadata": {},
     "output_type": "display_data"
    },
    {
     "name": "stdout",
     "output_type": "stream",
     "text": [
      "loss 0.357, train acc 0.867, test acc 0.855\n",
      "1787.1 examples/sec \n"
     ]
    }
   ],
   "source": [
    "import matplotlib.pyplot as plt\n",
    "from d2l import torch as d2l\n",
    "class Accumulator():\n",
    "    def __init__(self, n):\n",
    "        self.data = [0.0] * n\n",
    "    def add(self, *args):\n",
    "        self.data = [a + float(b) for a,b in zip(self.data, args)]\n",
    "def evaluate_accuracy(net, data_iter):\n",
    "    # 正确预测的数量，总预测的数量\n",
    "    metric = Accumulator(2)\n",
    "    for X, y in data_iter:\n",
    "        metric.add(d2l.accuracy(net(X), y), y.numel())\n",
    "    return metric.data[0] / metric.data[1]\n",
    "def train_ch6(net, train_iter, test_iter, num_epoch, lr):\n",
    "    def init_weights(m):\n",
    "        if type(m) == nn.Linear or type(m) == nn.Conv2d:\n",
    "            nn.init.xavier_uniform_(m.weight)\n",
    "    net.apply(init_weights)\n",
    "    optimizer = torch.optim.SGD(net.parameters(), lr=lr)\n",
    "    loss = nn.CrossEntropyLoss()\n",
    "    timer, num_batches = d2l.Timer(), len(train_iter)\n",
    "    loss_ = []\n",
    "    acc_ = []\n",
    "    testacc_ = []\n",
    "    for epoch in range(num_epochs):\n",
    "        # 训练损失之和，训练准确率之和，样本数\n",
    "        metric = d2l.Accumulator(3)\n",
    "        net.train()\n",
    "        for i, (X, y) in enumerate(train_iter):\n",
    "            timer.start()\n",
    "            optimizer.zero_grad()\n",
    "            y_hat = net(X)\n",
    "            l = loss(y_hat, y)\n",
    "            l.backward()\n",
    "            optimizer.step()\n",
    "            metric.add(l * X.shape[0], d2l.accuracy(y_hat, y), X.shape[0])\n",
    "            timer.stop()\n",
    "            train_l = metric[0] / metric[2]\n",
    "            train_acc = metric[1] / metric[2]\n",
    "            if (i + 1) % (num_batches // 5) == 0 or i == num_batches - 1:\n",
    "                loss_.append(train_l)\n",
    "                acc_.append(train_acc)\n",
    "        test_acc = evaluate_accuracy(net, test_iter)\n",
    "        testacc_.append(test_acc)\n",
    "    fig,ax = plt.subplots()\n",
    "    ax.plot(range(len(loss_)),loss_,label = 'train loss')\n",
    "    ax.plot(range(len(acc_)),acc_, label = 'train accuracy')\n",
    "    xtest = range(len(testacc_))\n",
    "    xtest = [i * 5 for i in xtest]\n",
    "    ax.plot(xtest, testacc_, 'o-', label = 'test accuracy')\n",
    "    plt.grid()\n",
    "    plt.legend()\n",
    "    plt.show()\n",
    "    print(f'loss {train_l:.3f}, train acc {train_acc:.3f}, '\n",
    "          f'test acc {test_acc:.3f}')\n",
    "    print(f'{metric[2] * num_epochs / timer.sum():.1f} examples/sec ')\n",
    "lr, num_epochs = 0.9, 10\n",
    "train_ch6(net, train_iter, test_iter, num_epochs, lr)"
   ]
  },
  {
   "cell_type": "code",
   "execution_count": null,
   "id": "39b5374d-33ca-4731-b764-7fcfe81a2b47",
   "metadata": {},
   "outputs": [],
   "source": []
  }
 ],
 "metadata": {
  "kernelspec": {
   "display_name": "pytorch",
   "language": "python",
   "name": "pytorch"
  },
  "language_info": {
   "codemirror_mode": {
    "name": "ipython",
    "version": 3
   },
   "file_extension": ".py",
   "mimetype": "text/x-python",
   "name": "python",
   "nbconvert_exporter": "python",
   "pygments_lexer": "ipython3",
   "version": "3.12.4"
  }
 },
 "nbformat": 4,
 "nbformat_minor": 5
}
